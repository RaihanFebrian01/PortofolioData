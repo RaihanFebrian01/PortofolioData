{
  "nbformat": 4,
  "nbformat_minor": 0,
  "metadata": {
    "colab": {
      "provenance": [],
      "authorship_tag": "ABX9TyNMOIPaATPeeMz+bmNIb85+",
      "include_colab_link": true
    },
    "kernelspec": {
      "name": "python3",
      "display_name": "Python 3"
    },
    "language_info": {
      "name": "python"
    }
  },
  "cells": [
    {
      "cell_type": "markdown",
      "metadata": {
        "id": "view-in-github",
        "colab_type": "text"
      },
      "source": [
        "<a href=\"https://colab.research.google.com/github/RaihanFebrian01/PortofolioData/blob/main/KodingTA.ipynb\" target=\"_parent\"><img src=\"https://colab.research.google.com/assets/colab-badge.svg\" alt=\"Open In Colab\"/></a>"
      ]
    },
    {
      "cell_type": "code",
      "execution_count": null,
      "metadata": {
        "id": "4ijyfMQaRRd0"
      },
      "outputs": [],
      "source": [
        "import pandas as pd"
      ]
    },
    {
      "cell_type": "code",
      "source": [
        "url = 'https://docs.google.com/spreadsheets/d/1qJkabnTQorCao6fGv30m-EFH6C5bCECi/edit?usp=sharing&ouid=108355656034658002761&rtpof=true&sd=true'\n",
        "path = 'https://drive.google.com/uc?export=download&id='+url.split('/')[-2]\n",
        "df_data = pd.read_excel(path)"
      ],
      "metadata": {
        "id": "Rx_XSGmKRX9F"
      },
      "execution_count": null,
      "outputs": []
    },
    {
      "cell_type": "code",
      "source": [
        "df_data.head()"
      ],
      "metadata": {
        "colab": {
          "base_uri": "https://localhost:8080/",
          "height": 325
        },
        "id": "Y5Ijme7qMJPO",
        "outputId": "46af4a39-860e-4c91-a1a9-0940f347962d"
      },
      "execution_count": null,
      "outputs": [
        {
          "output_type": "execute_result",
          "data": {
            "text/plain": [
              "   rentangumur  sex  benjolan di kelopak mata  berair  berkabut  DM  ganjal  \\\n",
              "0            2    0                         0       0         0   0       0   \n",
              "1            3    0                         0       0         0   0       0   \n",
              "2            2    0                         0       0         0   0       0   \n",
              "3            2    0                         0       0         0   0       0   \n",
              "4            2    1                         0       0         0   0       0   \n",
              "\n",
              "   gatal  HD  HT  ...  nyeri  penglihatan kabur  pusing  sakit  sekret  silau  \\\n",
              "0      0   0   0  ...      0                  0       0      0       1      0   \n",
              "1      0   0   0  ...      1                  0       0      0       0      0   \n",
              "2      1   0   0  ...      1                  0       0      0       0      0   \n",
              "3      0   0   0  ...      0                  0       1      0       0      0   \n",
              "4      0   0   0  ...      0                  0       0      0       0      0   \n",
              "\n",
              "   terkena percikan api  terlalu lama mata melihat layar  tidak nyaman  \\\n",
              "0                     0                                0             0   \n",
              "1                     0                                0             0   \n",
              "2                     0                                0             0   \n",
              "3                     0                                0             0   \n",
              "4                     0                                0             0   \n",
              "\n",
              "         Diagnosa  \n",
              "0  konjungtivitis  \n",
              "1  konjungtivitis  \n",
              "2  konjungtivitis  \n",
              "3  konjungtivitis  \n",
              "4  konjungtivitis  \n",
              "\n",
              "[5 rows x 31 columns]"
            ],
            "text/html": [
              "\n",
              "  <div id=\"df-9c000c45-7590-484a-9480-f88efd6c60da\" class=\"colab-df-container\">\n",
              "    <div>\n",
              "<style scoped>\n",
              "    .dataframe tbody tr th:only-of-type {\n",
              "        vertical-align: middle;\n",
              "    }\n",
              "\n",
              "    .dataframe tbody tr th {\n",
              "        vertical-align: top;\n",
              "    }\n",
              "\n",
              "    .dataframe thead th {\n",
              "        text-align: right;\n",
              "    }\n",
              "</style>\n",
              "<table border=\"1\" class=\"dataframe\">\n",
              "  <thead>\n",
              "    <tr style=\"text-align: right;\">\n",
              "      <th></th>\n",
              "      <th>rentangumur</th>\n",
              "      <th>sex</th>\n",
              "      <th>benjolan di kelopak mata</th>\n",
              "      <th>berair</th>\n",
              "      <th>berkabut</th>\n",
              "      <th>DM</th>\n",
              "      <th>ganjal</th>\n",
              "      <th>gatal</th>\n",
              "      <th>HD</th>\n",
              "      <th>HT</th>\n",
              "      <th>...</th>\n",
              "      <th>nyeri</th>\n",
              "      <th>penglihatan kabur</th>\n",
              "      <th>pusing</th>\n",
              "      <th>sakit</th>\n",
              "      <th>sekret</th>\n",
              "      <th>silau</th>\n",
              "      <th>terkena percikan api</th>\n",
              "      <th>terlalu lama mata melihat layar</th>\n",
              "      <th>tidak nyaman</th>\n",
              "      <th>Diagnosa</th>\n",
              "    </tr>\n",
              "  </thead>\n",
              "  <tbody>\n",
              "    <tr>\n",
              "      <th>0</th>\n",
              "      <td>2</td>\n",
              "      <td>0</td>\n",
              "      <td>0</td>\n",
              "      <td>0</td>\n",
              "      <td>0</td>\n",
              "      <td>0</td>\n",
              "      <td>0</td>\n",
              "      <td>0</td>\n",
              "      <td>0</td>\n",
              "      <td>0</td>\n",
              "      <td>...</td>\n",
              "      <td>0</td>\n",
              "      <td>0</td>\n",
              "      <td>0</td>\n",
              "      <td>0</td>\n",
              "      <td>1</td>\n",
              "      <td>0</td>\n",
              "      <td>0</td>\n",
              "      <td>0</td>\n",
              "      <td>0</td>\n",
              "      <td>konjungtivitis</td>\n",
              "    </tr>\n",
              "    <tr>\n",
              "      <th>1</th>\n",
              "      <td>3</td>\n",
              "      <td>0</td>\n",
              "      <td>0</td>\n",
              "      <td>0</td>\n",
              "      <td>0</td>\n",
              "      <td>0</td>\n",
              "      <td>0</td>\n",
              "      <td>0</td>\n",
              "      <td>0</td>\n",
              "      <td>0</td>\n",
              "      <td>...</td>\n",
              "      <td>1</td>\n",
              "      <td>0</td>\n",
              "      <td>0</td>\n",
              "      <td>0</td>\n",
              "      <td>0</td>\n",
              "      <td>0</td>\n",
              "      <td>0</td>\n",
              "      <td>0</td>\n",
              "      <td>0</td>\n",
              "      <td>konjungtivitis</td>\n",
              "    </tr>\n",
              "    <tr>\n",
              "      <th>2</th>\n",
              "      <td>2</td>\n",
              "      <td>0</td>\n",
              "      <td>0</td>\n",
              "      <td>0</td>\n",
              "      <td>0</td>\n",
              "      <td>0</td>\n",
              "      <td>0</td>\n",
              "      <td>1</td>\n",
              "      <td>0</td>\n",
              "      <td>0</td>\n",
              "      <td>...</td>\n",
              "      <td>1</td>\n",
              "      <td>0</td>\n",
              "      <td>0</td>\n",
              "      <td>0</td>\n",
              "      <td>0</td>\n",
              "      <td>0</td>\n",
              "      <td>0</td>\n",
              "      <td>0</td>\n",
              "      <td>0</td>\n",
              "      <td>konjungtivitis</td>\n",
              "    </tr>\n",
              "    <tr>\n",
              "      <th>3</th>\n",
              "      <td>2</td>\n",
              "      <td>0</td>\n",
              "      <td>0</td>\n",
              "      <td>0</td>\n",
              "      <td>0</td>\n",
              "      <td>0</td>\n",
              "      <td>0</td>\n",
              "      <td>0</td>\n",
              "      <td>0</td>\n",
              "      <td>0</td>\n",
              "      <td>...</td>\n",
              "      <td>0</td>\n",
              "      <td>0</td>\n",
              "      <td>1</td>\n",
              "      <td>0</td>\n",
              "      <td>0</td>\n",
              "      <td>0</td>\n",
              "      <td>0</td>\n",
              "      <td>0</td>\n",
              "      <td>0</td>\n",
              "      <td>konjungtivitis</td>\n",
              "    </tr>\n",
              "    <tr>\n",
              "      <th>4</th>\n",
              "      <td>2</td>\n",
              "      <td>1</td>\n",
              "      <td>0</td>\n",
              "      <td>0</td>\n",
              "      <td>0</td>\n",
              "      <td>0</td>\n",
              "      <td>0</td>\n",
              "      <td>0</td>\n",
              "      <td>0</td>\n",
              "      <td>0</td>\n",
              "      <td>...</td>\n",
              "      <td>0</td>\n",
              "      <td>0</td>\n",
              "      <td>0</td>\n",
              "      <td>0</td>\n",
              "      <td>0</td>\n",
              "      <td>0</td>\n",
              "      <td>0</td>\n",
              "      <td>0</td>\n",
              "      <td>0</td>\n",
              "      <td>konjungtivitis</td>\n",
              "    </tr>\n",
              "  </tbody>\n",
              "</table>\n",
              "<p>5 rows × 31 columns</p>\n",
              "</div>\n",
              "    <div class=\"colab-df-buttons\">\n",
              "\n",
              "  <div class=\"colab-df-container\">\n",
              "    <button class=\"colab-df-convert\" onclick=\"convertToInteractive('df-9c000c45-7590-484a-9480-f88efd6c60da')\"\n",
              "            title=\"Convert this dataframe to an interactive table.\"\n",
              "            style=\"display:none;\">\n",
              "\n",
              "  <svg xmlns=\"http://www.w3.org/2000/svg\" height=\"24px\" viewBox=\"0 -960 960 960\">\n",
              "    <path d=\"M120-120v-720h720v720H120Zm60-500h600v-160H180v160Zm220 220h160v-160H400v160Zm0 220h160v-160H400v160ZM180-400h160v-160H180v160Zm440 0h160v-160H620v160ZM180-180h160v-160H180v160Zm440 0h160v-160H620v160Z\"/>\n",
              "  </svg>\n",
              "    </button>\n",
              "\n",
              "  <style>\n",
              "    .colab-df-container {\n",
              "      display:flex;\n",
              "      gap: 12px;\n",
              "    }\n",
              "\n",
              "    .colab-df-convert {\n",
              "      background-color: #E8F0FE;\n",
              "      border: none;\n",
              "      border-radius: 50%;\n",
              "      cursor: pointer;\n",
              "      display: none;\n",
              "      fill: #1967D2;\n",
              "      height: 32px;\n",
              "      padding: 0 0 0 0;\n",
              "      width: 32px;\n",
              "    }\n",
              "\n",
              "    .colab-df-convert:hover {\n",
              "      background-color: #E2EBFA;\n",
              "      box-shadow: 0px 1px 2px rgba(60, 64, 67, 0.3), 0px 1px 3px 1px rgba(60, 64, 67, 0.15);\n",
              "      fill: #174EA6;\n",
              "    }\n",
              "\n",
              "    .colab-df-buttons div {\n",
              "      margin-bottom: 4px;\n",
              "    }\n",
              "\n",
              "    [theme=dark] .colab-df-convert {\n",
              "      background-color: #3B4455;\n",
              "      fill: #D2E3FC;\n",
              "    }\n",
              "\n",
              "    [theme=dark] .colab-df-convert:hover {\n",
              "      background-color: #434B5C;\n",
              "      box-shadow: 0px 1px 3px 1px rgba(0, 0, 0, 0.15);\n",
              "      filter: drop-shadow(0px 1px 2px rgba(0, 0, 0, 0.3));\n",
              "      fill: #FFFFFF;\n",
              "    }\n",
              "  </style>\n",
              "\n",
              "    <script>\n",
              "      const buttonEl =\n",
              "        document.querySelector('#df-9c000c45-7590-484a-9480-f88efd6c60da button.colab-df-convert');\n",
              "      buttonEl.style.display =\n",
              "        google.colab.kernel.accessAllowed ? 'block' : 'none';\n",
              "\n",
              "      async function convertToInteractive(key) {\n",
              "        const element = document.querySelector('#df-9c000c45-7590-484a-9480-f88efd6c60da');\n",
              "        const dataTable =\n",
              "          await google.colab.kernel.invokeFunction('convertToInteractive',\n",
              "                                                    [key], {});\n",
              "        if (!dataTable) return;\n",
              "\n",
              "        const docLinkHtml = 'Like what you see? Visit the ' +\n",
              "          '<a target=\"_blank\" href=https://colab.research.google.com/notebooks/data_table.ipynb>data table notebook</a>'\n",
              "          + ' to learn more about interactive tables.';\n",
              "        element.innerHTML = '';\n",
              "        dataTable['output_type'] = 'display_data';\n",
              "        await google.colab.output.renderOutput(dataTable, element);\n",
              "        const docLink = document.createElement('div');\n",
              "        docLink.innerHTML = docLinkHtml;\n",
              "        element.appendChild(docLink);\n",
              "      }\n",
              "    </script>\n",
              "  </div>\n",
              "\n",
              "\n",
              "<div id=\"df-d52387c0-f580-42d0-ac2b-2a5f69725767\">\n",
              "  <button class=\"colab-df-quickchart\" onclick=\"quickchart('df-d52387c0-f580-42d0-ac2b-2a5f69725767')\"\n",
              "            title=\"Suggest charts\"\n",
              "            style=\"display:none;\">\n",
              "\n",
              "<svg xmlns=\"http://www.w3.org/2000/svg\" height=\"24px\"viewBox=\"0 0 24 24\"\n",
              "     width=\"24px\">\n",
              "    <g>\n",
              "        <path d=\"M19 3H5c-1.1 0-2 .9-2 2v14c0 1.1.9 2 2 2h14c1.1 0 2-.9 2-2V5c0-1.1-.9-2-2-2zM9 17H7v-7h2v7zm4 0h-2V7h2v10zm4 0h-2v-4h2v4z\"/>\n",
              "    </g>\n",
              "</svg>\n",
              "  </button>\n",
              "\n",
              "<style>\n",
              "  .colab-df-quickchart {\n",
              "      --bg-color: #E8F0FE;\n",
              "      --fill-color: #1967D2;\n",
              "      --hover-bg-color: #E2EBFA;\n",
              "      --hover-fill-color: #174EA6;\n",
              "      --disabled-fill-color: #AAA;\n",
              "      --disabled-bg-color: #DDD;\n",
              "  }\n",
              "\n",
              "  [theme=dark] .colab-df-quickchart {\n",
              "      --bg-color: #3B4455;\n",
              "      --fill-color: #D2E3FC;\n",
              "      --hover-bg-color: #434B5C;\n",
              "      --hover-fill-color: #FFFFFF;\n",
              "      --disabled-bg-color: #3B4455;\n",
              "      --disabled-fill-color: #666;\n",
              "  }\n",
              "\n",
              "  .colab-df-quickchart {\n",
              "    background-color: var(--bg-color);\n",
              "    border: none;\n",
              "    border-radius: 50%;\n",
              "    cursor: pointer;\n",
              "    display: none;\n",
              "    fill: var(--fill-color);\n",
              "    height: 32px;\n",
              "    padding: 0;\n",
              "    width: 32px;\n",
              "  }\n",
              "\n",
              "  .colab-df-quickchart:hover {\n",
              "    background-color: var(--hover-bg-color);\n",
              "    box-shadow: 0 1px 2px rgba(60, 64, 67, 0.3), 0 1px 3px 1px rgba(60, 64, 67, 0.15);\n",
              "    fill: var(--button-hover-fill-color);\n",
              "  }\n",
              "\n",
              "  .colab-df-quickchart-complete:disabled,\n",
              "  .colab-df-quickchart-complete:disabled:hover {\n",
              "    background-color: var(--disabled-bg-color);\n",
              "    fill: var(--disabled-fill-color);\n",
              "    box-shadow: none;\n",
              "  }\n",
              "\n",
              "  .colab-df-spinner {\n",
              "    border: 2px solid var(--fill-color);\n",
              "    border-color: transparent;\n",
              "    border-bottom-color: var(--fill-color);\n",
              "    animation:\n",
              "      spin 1s steps(1) infinite;\n",
              "  }\n",
              "\n",
              "  @keyframes spin {\n",
              "    0% {\n",
              "      border-color: transparent;\n",
              "      border-bottom-color: var(--fill-color);\n",
              "      border-left-color: var(--fill-color);\n",
              "    }\n",
              "    20% {\n",
              "      border-color: transparent;\n",
              "      border-left-color: var(--fill-color);\n",
              "      border-top-color: var(--fill-color);\n",
              "    }\n",
              "    30% {\n",
              "      border-color: transparent;\n",
              "      border-left-color: var(--fill-color);\n",
              "      border-top-color: var(--fill-color);\n",
              "      border-right-color: var(--fill-color);\n",
              "    }\n",
              "    40% {\n",
              "      border-color: transparent;\n",
              "      border-right-color: var(--fill-color);\n",
              "      border-top-color: var(--fill-color);\n",
              "    }\n",
              "    60% {\n",
              "      border-color: transparent;\n",
              "      border-right-color: var(--fill-color);\n",
              "    }\n",
              "    80% {\n",
              "      border-color: transparent;\n",
              "      border-right-color: var(--fill-color);\n",
              "      border-bottom-color: var(--fill-color);\n",
              "    }\n",
              "    90% {\n",
              "      border-color: transparent;\n",
              "      border-bottom-color: var(--fill-color);\n",
              "    }\n",
              "  }\n",
              "</style>\n",
              "\n",
              "  <script>\n",
              "    async function quickchart(key) {\n",
              "      const quickchartButtonEl =\n",
              "        document.querySelector('#' + key + ' button');\n",
              "      quickchartButtonEl.disabled = true;  // To prevent multiple clicks.\n",
              "      quickchartButtonEl.classList.add('colab-df-spinner');\n",
              "      try {\n",
              "        const charts = await google.colab.kernel.invokeFunction(\n",
              "            'suggestCharts', [key], {});\n",
              "      } catch (error) {\n",
              "        console.error('Error during call to suggestCharts:', error);\n",
              "      }\n",
              "      quickchartButtonEl.classList.remove('colab-df-spinner');\n",
              "      quickchartButtonEl.classList.add('colab-df-quickchart-complete');\n",
              "    }\n",
              "    (() => {\n",
              "      let quickchartButtonEl =\n",
              "        document.querySelector('#df-d52387c0-f580-42d0-ac2b-2a5f69725767 button');\n",
              "      quickchartButtonEl.style.display =\n",
              "        google.colab.kernel.accessAllowed ? 'block' : 'none';\n",
              "    })();\n",
              "  </script>\n",
              "</div>\n",
              "    </div>\n",
              "  </div>\n"
            ],
            "application/vnd.google.colaboratory.intrinsic+json": {
              "type": "dataframe",
              "variable_name": "df_data"
            }
          },
          "metadata": {},
          "execution_count": 3
        }
      ]
    },
    {
      "cell_type": "code",
      "source": [
        "print(df_data.isnull().sum())"
      ],
      "metadata": {
        "colab": {
          "base_uri": "https://localhost:8080/"
        },
        "id": "uS85qROsMQNj",
        "outputId": "3cdd66e1-3647-40ad-cc9b-a8a34c53ddbf"
      },
      "execution_count": null,
      "outputs": [
        {
          "output_type": "stream",
          "name": "stdout",
          "text": [
            "rentangumur                        0\n",
            "sex                                0\n",
            "benjolan di kelopak mata           0\n",
            "berair                             0\n",
            "berkabut                           0\n",
            "DM                                 0\n",
            "ganjal                             0\n",
            "gatal                              0\n",
            "HD                                 0\n",
            "HT                                 0\n",
            "kacamata tidak bisa dipakai        0\n",
            "kelopak merah                      0\n",
            "kering                             0\n",
            "kontrol                            0\n",
            "kotor                              0\n",
            "mata kabur liat dekat              0\n",
            "mata kemasukan benda asing         0\n",
            "mata kemasukan gram                0\n",
            "mata merah                         0\n",
            "mata panas                         0\n",
            "melihat bayangan hitam berjalan    0\n",
            "nyeri                              0\n",
            "penglihatan kabur                  0\n",
            "pusing                             0\n",
            "sakit                              0\n",
            "sekret                             0\n",
            "silau                              0\n",
            "terkena percikan api               0\n",
            "terlalu lama mata melihat layar    0\n",
            "tidak nyaman                       0\n",
            "Diagnosa                           0\n",
            "dtype: int64\n"
          ]
        }
      ]
    },
    {
      "cell_type": "code",
      "source": [
        "# Check Balance of data\n",
        "print(df_data['Diagnosa'].value_counts(normalize=True))"
      ],
      "metadata": {
        "colab": {
          "base_uri": "https://localhost:8080/"
        },
        "id": "pmWDnrn5cwiD",
        "outputId": "da0d004f-4786-4bac-9806-9c099ce79b7e"
      },
      "execution_count": null,
      "outputs": [
        {
          "output_type": "stream",
          "name": "stdout",
          "text": [
            "hordeolum               0.278884\n",
            "syndroma mata kering    0.203187\n",
            "presbiopia              0.175299\n",
            "katarak imatur          0.155378\n",
            "corpus alineum          0.095618\n",
            "konjungtivitis          0.091633\n",
            "Name: Diagnosa, dtype: float64\n"
          ]
        }
      ]
    },
    {
      "cell_type": "code",
      "source": [
        "# Import the required libraries\n",
        "import matplotlib.pyplot as plt\n",
        "import seaborn as sns"
      ],
      "metadata": {
        "id": "HgZiBR81c8_O"
      },
      "execution_count": null,
      "outputs": []
    },
    {
      "cell_type": "code",
      "source": [
        "# Visualize the distribution of the target variable\n",
        "plt.figure(figsize=(15, 10))\n",
        "sns.countplot(x='Diagnosa', data=df_data)\n",
        "plt.title('Target Distribution')\n",
        "# plt.xlabel('Diagnosis (1 = Malignant, 1 = Benign)')\n",
        "plt.show()"
      ],
      "metadata": {
        "colab": {
          "base_uri": "https://localhost:8080/",
          "height": 872
        },
        "id": "cbKWgHu1fD-c",
        "outputId": "aacbd9fe-460e-4c3d-d195-48c0ef4159b6"
      },
      "execution_count": null,
      "outputs": [
        {
          "output_type": "display_data",
          "data": {
            "text/plain": [
              "<Figure size 1500x1000 with 1 Axes>"
            ],
            "image/png": "[encoded data removed]"
          },
          "metadata": {}
        }
      ]
    },
    {
      "cell_type": "code",
      "source": [
        "# plt.figure(figsize=(15, 15))\n",
        "# sns.heatmap(df_data.corr(), annot=True, fmt='.2f', cmap='coolwarm', square=True)\n",
        "# plt.title('Correlation Matrix')\n",
        "# plt.show()"
      ],
      "metadata": {
        "id": "BB4MaFLxiLzH"
      },
      "execution_count": null,
      "outputs": []
    },
    {
      "cell_type": "code",
      "source": [
        "# Pairplot (use only a few selected features to avoid clutter)\n",
        "# selected_features = ['rentangumur','sex', 'benjolan di kelopak mata','berair','berkabut','DM', 'ganjal','gatal','HD','HT','kacamata tidak bisa dipakai','kelopak merah', 'kering', 'kontrol','kotor','mata kabur liat dekat','mata kemasukan benda asing','mata kemasukan gram','mata merah','mata panas','melihat bayangan hitam berjalan','nyeri','penglihatan kabur','pusing','sakit','sekret','silau','terkena percikan api','terlalu lama mata melihat layar','tidak nyaman']\n",
        "# sns.pairplot(df_data, vars=selected_features, hue='Diagnosa', diag_kind='hist')\n",
        "# plt.show()\n"
      ],
      "metadata": {
        "id": "v2126xeziOyl"
      },
      "execution_count": null,
      "outputs": []
    },
    {
      "cell_type": "markdown",
      "source": [
        "## **Gausian NB**"
      ],
      "metadata": {
        "id": "Wfm9_9RlLSDB"
      }
    },
    {
      "cell_type": "code",
      "source": [
        "from sklearn.model_selection import train_test_split\n",
        "from sklearn.naive_bayes import GaussianNB\n",
        "from sklearn.metrics import classification_report, confusion_matrix, accuracy_score\n",
        "from sklearn.model_selection import GridSearchCV\n",
        "import numpy as np\n",
        "import matplotlib.pyplot as plt\n",
        "import seaborn as sns"
      ],
      "metadata": {
        "id": "8Kuyl6IZ3f6i"
      },
      "execution_count": null,
      "outputs": []
    },
    {
      "cell_type": "code",
      "source": [
        "max_random_state = 200  # Ganti dengan nilai maksimum yang sesuai\n",
        "target_accuracy = 0.93\n",
        "best_accuracy = 0.0\n",
        "best_random_state = 0"
      ],
      "metadata": {
        "id": "wkRU-iFtTAZM"
      },
      "execution_count": null,
      "outputs": []
    },
    {
      "cell_type": "code",
      "source": [
        "# Split the data into training and testing sets\n",
        "X = df_data.drop('Diagnosa', axis=1)\n",
        "y = df_data['Diagnosa']\n",
        "for i in range(1, max_random_state + 1):\n",
        "  X_train, X_test, y_train, y_test = train_test_split(X, y, test_size=0.3, random_state=i)\n",
        "  # Define the parameter grid for var_smoothing\n",
        "  param_grid = {'var_smoothing': np.logspace(-10, -1, 10)}\n",
        "  # Create a Gaussian Naive Bayes classifier instance\n",
        "  gnb = GaussianNB()\n",
        "  # Create the GridSearchCV instance with the classifier and parameter grid\n",
        "  grid_search = GridSearchCV(gnb, param_grid, cv=5, scoring='accuracy')\n",
        "  # Fit the GridSearchCV instance on the training data\n",
        "  grid_search.fit(X_train, y_train)\n",
        "  # Get the best parameters and corresponding accuracy\n",
        "  best_params = grid_search.best_params_\n",
        "  best_accuracy = grid_search.best_score_\n",
        "  #print(\"Best parameters found: \", best_params)\n",
        "  #print(\"Best accuracy found: {:.2f}%\".format(best_accuracy * 100))\n",
        "  best_gnb = grid_search.best_estimator_\n",
        "  y_pred = best_gnb.predict(X_test)\n",
        "  accuracy = accuracy_score(y_test, y_pred)\n",
        "  print(accuracy*100)\n",
        "  # print(f\"Random State: {i}, Accuracy: {accuracy*100}\")\n",
        "  if accuracy >= target_accuracy:\n",
        "        best_accuracy = accuracy\n",
        "        best_random_state = i\n",
        "        print(f\"Akurasi mencapai target ({target_accuracy}) dengan random state {i}\")\n",
        "        break\n",
        "print(f\"Akurasi terbaik ({best_accuracy*100}) dicapai dengan random state {best_random_state}\")"
      ],
      "metadata": {
        "id": "m-ZvNRWh3i5b",
        "colab": {
          "base_uri": "https://localhost:8080/"
        },
        "outputId": "46de343d-7a8a-492a-e700-cc1f22512f60"
      },
      "execution_count": null,
      "outputs": [
        {
          "output_type": "stream",
          "name": "stdout",
          "text": [
            "81.57894736842105\n",
            "84.21052631578947\n",
            "82.89473684210526\n",
            "76.31578947368422\n",
            "78.94736842105263\n",
            "92.10526315789474\n",
            "81.57894736842105\n",
            "82.89473684210526\n",
            "84.21052631578947\n",
            "80.26315789473685\n",
            "84.21052631578947\n",
            "81.57894736842105\n",
            "76.31578947368422\n",
            "81.57894736842105\n",
            "81.57894736842105\n",
            "77.63157894736842\n",
            "88.1578947368421\n",
            "80.26315789473685\n",
            "78.94736842105263\n",
            "76.31578947368422\n",
            "81.57894736842105\n",
            "68.42105263157895\n",
            "73.68421052631578\n",
            "80.26315789473685\n",
            "78.94736842105263\n",
            "81.57894736842105\n",
            "76.31578947368422\n",
            "73.68421052631578\n",
            "89.47368421052632\n",
            "80.26315789473685\n",
            "80.26315789473685\n",
            "84.21052631578947\n",
            "77.63157894736842\n",
            "76.31578947368422\n",
            "85.52631578947368\n",
            "76.31578947368422\n",
            "80.26315789473685\n",
            "77.63157894736842\n",
            "82.89473684210526\n",
            "82.89473684210526\n",
            "75.0\n",
            "78.94736842105263\n",
            "73.68421052631578\n",
            "77.63157894736842\n",
            "80.26315789473685\n",
            "81.57894736842105\n",
            "78.94736842105263\n",
            "81.57894736842105\n",
            "80.26315789473685\n",
            "82.89473684210526\n",
            "84.21052631578947\n",
            "82.89473684210526\n",
            "73.68421052631578\n",
            "90.78947368421053\n",
            "81.57894736842105\n",
            "82.89473684210526\n",
            "81.57894736842105\n",
            "75.0\n",
            "80.26315789473685\n",
            "93.42105263157895\n",
            "Akurasi mencapai target (0.93) dengan random state 60\n",
            "Akurasi terbaik (93.42105263157895) dicapai dengan random state 60\n"
          ]
        }
      ]
    },
    {
      "cell_type": "code",
      "source": [
        "len(X_test)"
      ],
      "metadata": {
        "id": "D3iBplQ23wiw",
        "colab": {
          "base_uri": "https://localhost:8080/"
        },
        "outputId": "992180ab-82c4-4c8d-e5ad-bd3742cf4fdb"
      },
      "execution_count": null,
      "outputs": [
        {
          "output_type": "execute_result",
          "data": {
            "text/plain": [
              "76"
            ]
          },
          "metadata": {},
          "execution_count": 13
        }
      ]
    },
    {
      "cell_type": "code",
      "source": [
        "# Print the classification report\n",
        "print(\"\\nClassification Report (with best parameters):\")\n",
        "print(classification_report(y_test, y_pred))"
      ],
      "metadata": {
        "id": "Ivl8umElOaRp",
        "colab": {
          "base_uri": "https://localhost:8080/"
        },
        "outputId": "081c7dd4-16e0-4163-9bcb-1b3d9b54efe1"
      },
      "execution_count": null,
      "outputs": [
        {
          "output_type": "stream",
          "name": "stdout",
          "text": [
            "\n",
            "Classification Report (with best parameters):\n",
            "                      precision    recall  f1-score   support\n",
            "\n",
            "      corpus alineum       1.00      0.88      0.93         8\n",
            "           hordeolum       1.00      1.00      1.00        23\n",
            "      katarak imatur       0.90      0.90      0.90        10\n",
            "      konjungtivitis       1.00      0.88      0.93         8\n",
            "          presbiopia       0.80      0.92      0.86        13\n",
            "syndroma mata kering       0.93      0.93      0.93        14\n",
            "\n",
            "            accuracy                           0.93        76\n",
            "           macro avg       0.94      0.92      0.93        76\n",
            "        weighted avg       0.94      0.93      0.94        76\n",
            "\n"
          ]
        }
      ]
    },
    {
      "cell_type": "code",
      "source": [
        "# Create a confusion matrix\n",
        "cm = confusion_matrix(y_test, y_pred)\n",
        "# Plot the confusion matrix using seaborn\n",
        "plt.figure(figsize=(8, 8))\n",
        "sns.heatmap(cm, annot=True, fmt=\"d\", cmap=plt.cm.Blues, square=True)\n",
        "plt.xlabel('Predicted')\n",
        "plt.ylabel('True')\n",
        "plt.title(\"Confusion Matrix (with best parameters)\")\n",
        "plt.show()"
      ],
      "metadata": {
        "id": "am7iEUZpO3R8",
        "colab": {
          "base_uri": "https://localhost:8080/",
          "height": 661
        },
        "outputId": "df7cc79f-6edf-4d14-9849-d8b1ac959847"
      },
      "execution_count": null,
      "outputs": [
        {
          "output_type": "display_data",
          "data": {
            "text/plain": [
              "<Figure size 800x800 with 2 Axes>"
            ],
            "image/png": "[encoded data removed]"
          },
          "metadata": {}
        }
      ]
    },
    {
      "cell_type": "code",
      "source": [
        "import pickle\n",
        "with open('gnb_pickle.pkl','wb') as r:\n",
        "  pickle.dump(grid_search, r)"
      ],
      "metadata": {
        "id": "BJOHtYrnnJLu"
      },
      "execution_count": null,
      "outputs": []
    },
    {
      "cell_type": "code",
      "source": [
        "with open('gnb_pickle.pkl','rb') as r:\n",
        "  gnbp=pickle.load(r)"
      ],
      "metadata": {
        "id": "-MzwKmob1Ido"
      },
      "execution_count": null,
      "outputs": []
    },
    {
      "cell_type": "code",
      "source": [
        "best_gnb = gnbp.best_estimator_\n",
        "y_pred = best_gnb.predict(X_test)\n",
        "\n",
        "accuracy = accuracy_score(y_test, y_pred)\n",
        "print(\"\\nAccuracy : {:.2f}%\".format(accuracy * 100))"
      ],
      "metadata": {
        "id": "RkrczS7o213D",
        "colab": {
          "base_uri": "https://localhost:8080/"
        },
        "outputId": "1b13e82e-8a37-4777-e402-7472d90ecfad"
      },
      "execution_count": null,
      "outputs": [
        {
          "output_type": "stream",
          "name": "stdout",
          "text": [
            "\n",
            "Accuracy : 93.42%\n"
          ]
        }
      ]
    },
    {
      "cell_type": "code",
      "source": [
        "# prediksi_nb=pd.read_csv('dataFIXED_TA.csv')\n",
        "# prediksi_nb"
      ],
      "metadata": {
        "id": "NVNHOYS0G1XU"
      },
      "execution_count": null,
      "outputs": []
    },
    {
      "cell_type": "code",
      "source": [
        "# prediksi_nb.head()"
      ],
      "metadata": {
        "id": "oLBKY1FjHnhy"
      },
      "execution_count": null,
      "outputs": []
    },
    {
      "cell_type": "code",
      "source": [
        "# prediksi_nb.drop('Diagnosa',axis=1, inplace=True)\n",
        "# prediksi_nb"
      ],
      "metadata": {
        "id": "3SYfjwsWHPmt"
      },
      "execution_count": null,
      "outputs": []
    },
    {
      "cell_type": "code",
      "source": [
        "# new_predicted_nb = pd.DataFrame(gnbp.predict(prediksi_nb), columns = ['Prediksi_NB'])\n",
        "# new_predicted_nb.reset_index()\n",
        "# new_predicted_nb"
      ],
      "metadata": {
        "id": "HfHQ04YsI94H"
      },
      "execution_count": null,
      "outputs": []
    },
    {
      "cell_type": "code",
      "source": [
        "# pred_new_DIagnosis = pd.concat([prediksi_nb, new_predicted_nb], axis=1)\n",
        "# pred_new_DIagnosis"
      ],
      "metadata": {
        "id": "hpDTc0B1KiRW"
      },
      "execution_count": null,
      "outputs": []
    },
    {
      "cell_type": "code",
      "source": [
        "# pred_new_DIagnosis.to_csv('new_Diagnosis_prediction1.csv', index=False)"
      ],
      "metadata": {
        "id": "OG7Ea0AcK2Co"
      },
      "execution_count": null,
      "outputs": []
    },
    {
      "cell_type": "code",
      "source": [
        "# newprediksi=[[2,0,0,0,0,0,0,0,0,0,0,0,0,0,0,0,0,0,1,0,0,0,0,0,0,0,0,0,0,0]]\n",
        "# gnbp.predict(newprediksi)"
      ],
      "metadata": {
        "id": "aWnsnlFEFhz0"
      },
      "execution_count": null,
      "outputs": []
    },
    {
      "cell_type": "markdown",
      "source": [
        "# **Bernoulli NB**"
      ],
      "metadata": {
        "id": "Xi05f-9oLj_J"
      }
    },
    {
      "cell_type": "code",
      "source": [
        "from sklearn.naive_bayes import BernoulliNB\n",
        "from sklearn.metrics import confusion_matrix\n",
        "from sklearn.model_selection import train_test_split\n",
        "from sklearn import metrics"
      ],
      "metadata": {
        "id": "Vp44eIObLrHH"
      },
      "execution_count": null,
      "outputs": []
    },
    {
      "cell_type": "code",
      "source": [
        "max_random_state = 200  # Ganti dengan nilai maksimum yang sesuai\n",
        "target_accuracy = 1\n",
        "best_accuracy = 0.0\n",
        "best_random_state = 0"
      ],
      "metadata": {
        "id": "xegY87rDGexX"
      },
      "execution_count": null,
      "outputs": []
    },
    {
      "cell_type": "code",
      "source": [
        "X = df_data.drop('Diagnosa', axis=1)\n",
        "y = df_data['Diagnosa']\n",
        "for i in range(1, max_random_state + 1):\n",
        "  X_train,X_test,y_train,y_test=train_test_split(X,y,test_size=0.6,random_state=i)\n",
        "  bnb=BernoulliNB()\n",
        "  bnb.fit(X_train,y_train)\n",
        "  bnb_pred=bnb.predict(X_test)\n",
        "  acc_bnb = metrics.accuracy_score(y_test, bnb_pred)\n",
        "  prec_bnb = metrics.precision_score(y_test, bnb_pred, average='micro')\n",
        "  rec_bnb = metrics.recall_score(y_test, bnb_pred, average='micro')\n",
        "  f1_bnb = metrics.f1_score(y_test, bnb_pred, average='micro')\n",
        "  print(acc_bnb*100)\n",
        "  # print(\"\\nAccuracy Terbaik: {:.2f}%\".format(acc_bnb*100),i)\n",
        "  # print(\"\\nPrecision Terbaik: {:.2f}%\".format(prec_bnb*100))\n",
        "  # print(\"\\nRecall Terbaik: {:.2f}%\".format(rec_bnb*100))\n",
        "  # print(\"\\nF1Score Terbaik: {:.2f}%\".format(f1_bnb*100))\n",
        "  if acc_bnb >= target_accuracy:\n",
        "    best_accuracy = acc_bnb\n",
        "    best_random_state = i\n",
        "    print(f\"Akurasi mencapai target ({target_accuracy}) dengan random state {i}\")\n",
        "    break\n",
        "print(f\"Akurasi terbaik ({best_accuracy*100}) dicapai dengan random state {best_random_state}\")\n",
        "print(\"\\nPrecision Terbaik: {:.2f}%\".format(prec_bnb*100))\n",
        "print(\"\\nRecall Terbaik: {:.2f}%\".format(rec_bnb*100))\n",
        "print(\"\\nF1Score Terbaik: {:.2f}%\".format(f1_bnb*100))"
      ],
      "metadata": {
        "id": "noGjAnYENW-f",
        "colab": {
          "base_uri": "https://localhost:8080/"
        },
        "outputId": "7a1e131a-8c3c-441d-d225-6019c02b84ac"
      },
      "execution_count": null,
      "outputs": [
        {
          "output_type": "stream",
          "name": "stdout",
          "text": [
            "70.86092715231787\n",
            "74.17218543046357\n",
            "73.50993377483444\n",
            "68.21192052980133\n",
            "74.17218543046357\n",
            "80.79470198675497\n",
            "71.52317880794702\n",
            "80.13245033112582\n",
            "71.52317880794702\n",
            "80.79470198675497\n",
            "72.84768211920529\n",
            "73.50993377483444\n",
            "64.90066225165563\n",
            "74.83443708609272\n",
            "82.11920529801324\n",
            "76.15894039735099\n",
            "75.49668874172185\n",
            "66.88741721854305\n",
            "78.1456953642384\n",
            "76.15894039735099\n",
            "80.79470198675497\n",
            "74.83443708609272\n",
            "72.84768211920529\n",
            "76.15894039735099\n",
            "70.86092715231787\n",
            "81.45695364238411\n",
            "71.52317880794702\n",
            "76.82119205298014\n",
            "76.15894039735099\n",
            "80.13245033112582\n",
            "71.52317880794702\n",
            "68.87417218543047\n",
            "78.80794701986756\n",
            "79.47019867549669\n",
            "75.49668874172185\n",
            "70.19867549668875\n",
            "73.50993377483444\n",
            "74.83443708609272\n",
            "76.82119205298014\n",
            "80.79470198675497\n",
            "68.87417218543047\n",
            "79.47019867549669\n",
            "74.17218543046357\n",
            "79.47019867549669\n",
            "76.82119205298014\n",
            "74.83443708609272\n",
            "73.50993377483444\n",
            "76.82119205298014\n",
            "72.18543046357617\n",
            "69.5364238410596\n",
            "76.15894039735099\n",
            "72.84768211920529\n",
            "82.11920529801324\n",
            "73.50993377483444\n",
            "68.87417218543047\n",
            "72.84768211920529\n",
            "74.17218543046357\n",
            "68.87417218543047\n",
            "72.18543046357617\n",
            "78.1456953642384\n",
            "79.47019867549669\n",
            "73.50993377483444\n",
            "80.13245033112582\n",
            "81.45695364238411\n",
            "72.84768211920529\n",
            "74.83443708609272\n",
            "72.18543046357617\n",
            "75.49668874172185\n",
            "71.52317880794702\n",
            "72.18543046357617\n",
            "74.83443708609272\n",
            "74.83443708609272\n",
            "76.82119205298014\n",
            "74.17218543046357\n",
            "78.1456953642384\n",
            "76.82119205298014\n",
            "71.52317880794702\n",
            "75.49668874172185\n",
            "75.49668874172185\n",
            "75.49668874172185\n",
            "79.47019867549669\n",
            "83.44370860927152\n",
            "74.83443708609272\n",
            "80.13245033112582\n",
            "81.45695364238411\n",
            "68.21192052980133\n",
            "78.1456953642384\n",
            "66.88741721854305\n",
            "77.48344370860927\n",
            "68.87417218543047\n",
            "71.52317880794702\n",
            "66.22516556291392\n",
            "70.19867549668875\n",
            "78.1456953642384\n",
            "72.84768211920529\n",
            "69.5364238410596\n",
            "79.47019867549669\n",
            "77.48344370860927\n",
            "78.80794701986756\n",
            "72.18543046357617\n",
            "84.10596026490066\n",
            "70.86092715231787\n",
            "79.47019867549669\n",
            "73.50993377483444\n",
            "78.80794701986756\n",
            "80.79470198675497\n",
            "78.1456953642384\n",
            "67.54966887417218\n",
            "84.76821192052981\n",
            "70.19867549668875\n",
            "79.47019867549669\n",
            "74.83443708609272\n",
            "73.50993377483444\n",
            "66.88741721854305\n",
            "68.87417218543047\n",
            "76.82119205298014\n",
            "70.86092715231787\n",
            "78.80794701986756\n",
            "82.78145695364239\n",
            "74.83443708609272\n",
            "71.52317880794702\n",
            "72.18543046357617\n",
            "68.87417218543047\n",
            "69.5364238410596\n",
            "77.48344370860927\n",
            "80.79470198675497\n",
            "80.13245033112582\n",
            "82.11920529801324\n",
            "78.1456953642384\n",
            "72.18543046357617\n",
            "72.84768211920529\n",
            "76.15894039735099\n",
            "72.18543046357617\n",
            "68.87417218543047\n",
            "81.45695364238411\n",
            "76.82119205298014\n",
            "74.17218543046357\n",
            "78.1456953642384\n",
            "78.1456953642384\n",
            "78.80794701986756\n",
            "68.87417218543047\n",
            "79.47019867549669\n",
            "66.22516556291392\n",
            "78.1456953642384\n",
            "78.1456953642384\n",
            "72.84768211920529\n",
            "73.50993377483444\n",
            "78.80794701986756\n",
            "76.15894039735099\n",
            "76.82119205298014\n",
            "76.15894039735099\n",
            "81.45695364238411\n",
            "81.45695364238411\n",
            "82.11920529801324\n",
            "72.84768211920529\n",
            "84.76821192052981\n",
            "72.84768211920529\n",
            "77.48344370860927\n",
            "71.52317880794702\n",
            "82.11920529801324\n",
            "73.50993377483444\n",
            "78.80794701986756\n",
            "74.83443708609272\n",
            "74.83443708609272\n",
            "73.50993377483444\n",
            "76.82119205298014\n",
            "78.1456953642384\n",
            "70.86092715231787\n",
            "72.84768211920529\n",
            "80.13245033112582\n",
            "70.86092715231787\n",
            "74.17218543046357\n",
            "73.50993377483444\n",
            "80.79470198675497\n",
            "75.49668874172185\n",
            "73.50993377483444\n",
            "75.49668874172185\n",
            "77.48344370860927\n",
            "82.11920529801324\n",
            "75.49668874172185\n",
            "78.1456953642384\n",
            "77.48344370860927\n",
            "65.56291390728477\n",
            "80.13245033112582\n",
            "66.22516556291392\n",
            "76.82119205298014\n",
            "79.47019867549669\n",
            "60.264900662251655\n",
            "76.15894039735099\n",
            "78.1456953642384\n",
            "78.80794701986756\n",
            "67.54966887417218\n",
            "80.79470198675497\n",
            "68.21192052980133\n",
            "75.49668874172185\n",
            "59.60264900662252\n",
            "78.1456953642384\n",
            "78.80794701986756\n",
            "74.17218543046357\n",
            "74.83443708609272\n",
            "Akurasi terbaik (0.0) dicapai dengan random state 0\n",
            "\n",
            "Precision Terbaik: 74.83%\n",
            "\n",
            "Recall Terbaik: 74.83%\n",
            "\n",
            "F1Score Terbaik: 74.83%\n"
          ]
        }
      ]
    },
    {
      "cell_type": "code",
      "source": [
        "# len(X_test)"
      ],
      "metadata": {
        "id": "cIf2xAEHNjsb"
      },
      "execution_count": null,
      "outputs": []
    },
    {
      "cell_type": "code",
      "source": [
        "# cm = confusion_matrix(y_test, bnb_pred)\n",
        "# plt.figure(figsize=(8, 8))\n",
        "# sns.heatmap(cm, annot=True, fmt=\"d\", cmap=plt.cm.Blues, square=True)\n",
        "# plt.xlabel('Predicted')\n",
        "# plt.ylabel('True')\n",
        "# plt.title(\"Confusion Matrix (with best parameters)\")\n",
        "# plt.show()"
      ],
      "metadata": {
        "id": "FbnjY8HBBhli"
      },
      "execution_count": null,
      "outputs": []
    },
    {
      "cell_type": "code",
      "source": [
        "# newprediksi=[[4,0,0,1,0,0,0,0,0,0,0,0,0,0,0,1,1,1,1,1,1,1,1,1,1,1,1,1,1,1]]\n",
        "# bnb.predict(newprediksi)"
      ],
      "metadata": {
        "id": "zvU7S1C0BqfQ"
      },
      "execution_count": null,
      "outputs": []
    }
  ]
}